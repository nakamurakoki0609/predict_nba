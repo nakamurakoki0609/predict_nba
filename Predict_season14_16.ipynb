{
 "cells": [
  {
   "cell_type": "code",
   "execution_count": 1,
   "metadata": {},
   "outputs": [
    {
     "name": "stdout",
     "output_type": "stream",
     "text": [
      "/Users/koki/Desktop/myprog/nba_machine_learning/csv\n"
     ]
    }
   ],
   "source": [
    "import numpy as np\n",
    "import pandas as pd\n",
    "from pandas import DataFrame, Series\n",
    "import matplotlib.pyplot as plt\n",
    "import seaborn as sns\n",
    "\n",
    "from sklearn.model_selection import train_test_split, GridSearchCV\n",
    "from sklearn.ensemble import RandomForestClassifier\n",
    "from sklearn.linear_model import LogisticRegression\n",
    "from sklearn.neural_network import MLPClassifier\n",
    "\n",
    "import warnings\n",
    "warnings.filterwarnings('ignore')\n",
    "\n",
    "import os\n",
    "\n",
    "os.chdir('../../myprog/nba_machine_learning/csv')\n",
    "cwd = os.getcwd()\n",
    "print(cwd)\n"
   ]
  },
  {
   "cell_type": "code",
   "execution_count": 2,
   "metadata": {},
   "outputs": [],
   "source": [
    "df14_15 = pd.read_csv('nba_14-15.csv')\n",
    "\n",
    "df14_15.drop('Unnamed: 3', axis=1, inplace=True)\n",
    "df14_15.drop('Rk', axis=1, inplace=True)\n",
    "df14_15.drop('G', axis=1, inplace=True)\n",
    "df14_15.drop('Date', axis=1, inplace=True)\n",
    "df14_15.drop('Opp', axis=1, inplace=True)\n",
    "\n",
    "df14_15.dropna(inplace = True)"
   ]
  },
  {
   "cell_type": "code",
   "execution_count": 3,
   "metadata": {},
   "outputs": [],
   "source": [
    "df15_16 = pd.read_csv('nba_15-16.csv')\n",
    "\n",
    "df15_16.drop('Unnamed: 3', axis=1, inplace=True)\n",
    "df15_16.drop('Rk', axis=1, inplace=True)\n",
    "df15_16.drop('G', axis=1, inplace=True)\n",
    "df15_16.drop('Date', axis=1, inplace=True)\n",
    "df15_16.drop('Opp', axis=1, inplace=True)\n",
    "\n",
    "df15_16.dropna(inplace = True)"
   ]
  },
  {
   "cell_type": "code",
   "execution_count": 4,
   "metadata": {},
   "outputs": [],
   "source": [
    "df14_16 = pd.concat([df14_15,df15_16])"
   ]
  },
  {
   "cell_type": "code",
   "execution_count": 5,
   "metadata": {},
   "outputs": [],
   "source": [
    "df14_16 = df14_16['W/L']"
   ]
  },
  {
   "cell_type": "code",
   "execution_count": 7,
   "metadata": {},
   "outputs": [],
   "source": [
    "df_stats14_15 = pd.read_csv('stats14_15_out.csv')\n",
    "df_stats15_16 = pd.read_csv('stats15_16_out.csv')\n",
    "\n",
    "df_stats14_15= df_stats14_15.drop(columns=['Unnamed: 0'])\n",
    "df_stats15_16= df_stats15_16.drop(columns=['Unnamed: 0'])\n",
    "df_stats = pd.concat([df_stats14_15,df_stats15_16])\n",
    "#欠損値を０に\n",
    "df_stats.fillna(0,inplace=True)"
   ]
  },
  {
   "cell_type": "code",
   "execution_count": 8,
   "metadata": {},
   "outputs": [],
   "source": [
    "df = pd.concat([df14_16,df_stats], axis=1)"
   ]
  },
  {
   "cell_type": "code",
   "execution_count": 9,
   "metadata": {},
   "outputs": [],
   "source": [
    "X = df.iloc[:, df.columns != 'W/L'].values\n",
    "y = df.loc[:, 'W/L'].values"
   ]
  },
  {
   "cell_type": "code",
   "execution_count": 10,
   "metadata": {},
   "outputs": [],
   "source": [
    "pd.set_option('display.max_rows', 200)\n",
    "pd.set_option('display.max_columns', 100)"
   ]
  },
  {
   "cell_type": "code",
   "execution_count": 11,
   "metadata": {},
   "outputs": [
    {
     "data": {
      "text/plain": [
       "RandomForestClassifier(max_depth=7, min_samples_leaf=14, n_jobs=-1,\n",
       "                       random_state=1000)"
      ]
     },
     "execution_count": 11,
     "metadata": {},
     "output_type": "execute_result"
    }
   ],
   "source": [
    "X_train, X_valid, y_train, y_valid = train_test_split(X, y, test_size=0.3, random_state=60)\n",
    "rfc = RandomForestClassifier(max_depth=7, min_samples_leaf=14, n_estimators=100, n_jobs=-1, random_state=1000)\n",
    "rfc.fit(X_train, y_train)"
   ]
  },
  {
   "cell_type": "code",
   "execution_count": 12,
   "metadata": {},
   "outputs": [
    {
     "data": {
      "image/png": "[encoded data removed]",
      "text/plain": [
       "<Figure size 720x720 with 1 Axes>"
      ]
     },
     "metadata": {
      "needs_background": "light"
     },
     "output_type": "display_data"
    }
   ],
   "source": [
    "import matplotlib.pyplot as plt\n",
    "%matplotlib inline\n",
    "\n",
    "features = df.columns[df.columns != 'W/L']\n",
    "importances = rfc.feature_importances_\n",
    "indices = np.argsort(importances)\n",
    "\n",
    "plt.figure(figsize=(10,10))\n",
    "plt.barh(range(len(indices)), importances[indices], color='b', align='center')\n",
    "plt.yticks(range(len(indices)), features[indices])\n",
    "plt.show()"
   ]
  },
  {
   "cell_type": "code",
   "execution_count": 13,
   "metadata": {},
   "outputs": [
    {
     "name": "stdout",
     "output_type": "stream",
     "text": [
      "Train Score: 0.851\n",
      " Test Score: 0.86\n"
     ]
    }
   ],
   "source": [
    "print('Train Score: {}'.format(round(rfc.score(X_train, y_train), 3)))\n",
    "print(' Test Score: {}'.format(round(rfc.score(X_valid, y_valid), 3)))"
   ]
  },
  {
   "cell_type": "code",
   "execution_count": 14,
   "metadata": {},
   "outputs": [],
   "source": [
    "X_test = pd.read_csv('stats21_22_out.csv')"
   ]
  },
  {
   "cell_type": "code",
   "execution_count": 15,
   "metadata": {},
   "outputs": [],
   "source": [
    "X_test.drop('Unnamed: 0', axis=1, inplace=True)"
   ]
  },
  {
   "cell_type": "code",
   "execution_count": 16,
   "metadata": {},
   "outputs": [
    {
     "data": {
      "text/html": [
       "<div>\n",
       "<style scoped>\n",
       "    .dataframe tbody tr th:only-of-type {\n",
       "        vertical-align: middle;\n",
       "    }\n",
       "\n",
       "    .dataframe tbody tr th {\n",
       "        vertical-align: top;\n",
       "    }\n",
       "\n",
       "    .dataframe thead th {\n",
       "        text-align: right;\n",
       "    }\n",
       "</style>\n",
       "<table border=\"1\" class=\"dataframe\">\n",
       "  <thead>\n",
       "    <tr style=\"text-align: right;\">\n",
       "      <th></th>\n",
       "      <th>fg</th>\n",
       "      <th>fga</th>\n",
       "      <th>fg%</th>\n",
       "      <th>fg3</th>\n",
       "      <th>fg3a</th>\n",
       "      <th>fg3%</th>\n",
       "      <th>ft</th>\n",
       "      <th>fta</th>\n",
       "      <th>ft%</th>\n",
       "      <th>orb</th>\n",
       "      <th>drb</th>\n",
       "      <th>trb</th>\n",
       "      <th>ast</th>\n",
       "      <th>stl</th>\n",
       "      <th>blk</th>\n",
       "      <th>tov</th>\n",
       "      <th>pf</th>\n",
       "      <th>pts</th>\n",
       "    </tr>\n",
       "  </thead>\n",
       "  <tbody>\n",
       "    <tr>\n",
       "      <th>0</th>\n",
       "      <td>20</td>\n",
       "      <td>49</td>\n",
       "      <td>0.408</td>\n",
       "      <td>4</td>\n",
       "      <td>16</td>\n",
       "      <td>0.250</td>\n",
       "      <td>9</td>\n",
       "      <td>10</td>\n",
       "      <td>0.900</td>\n",
       "      <td>4</td>\n",
       "      <td>20</td>\n",
       "      <td>24</td>\n",
       "      <td>14</td>\n",
       "      <td>6</td>\n",
       "      <td>2</td>\n",
       "      <td>11</td>\n",
       "      <td>10</td>\n",
       "      <td>53</td>\n",
       "    </tr>\n",
       "    <tr>\n",
       "      <th>1</th>\n",
       "      <td>24</td>\n",
       "      <td>39</td>\n",
       "      <td>0.615</td>\n",
       "      <td>10</td>\n",
       "      <td>18</td>\n",
       "      <td>0.556</td>\n",
       "      <td>8</td>\n",
       "      <td>11</td>\n",
       "      <td>0.727</td>\n",
       "      <td>3</td>\n",
       "      <td>17</td>\n",
       "      <td>20</td>\n",
       "      <td>18</td>\n",
       "      <td>3</td>\n",
       "      <td>3</td>\n",
       "      <td>12</td>\n",
       "      <td>12</td>\n",
       "      <td>66</td>\n",
       "    </tr>\n",
       "    <tr>\n",
       "      <th>2</th>\n",
       "      <td>20</td>\n",
       "      <td>48</td>\n",
       "      <td>0.417</td>\n",
       "      <td>6</td>\n",
       "      <td>18</td>\n",
       "      <td>0.333</td>\n",
       "      <td>14</td>\n",
       "      <td>16</td>\n",
       "      <td>0.875</td>\n",
       "      <td>8</td>\n",
       "      <td>14</td>\n",
       "      <td>22</td>\n",
       "      <td>15</td>\n",
       "      <td>6</td>\n",
       "      <td>1</td>\n",
       "      <td>4</td>\n",
       "      <td>5</td>\n",
       "      <td>60</td>\n",
       "    </tr>\n",
       "    <tr>\n",
       "      <th>3</th>\n",
       "      <td>18</td>\n",
       "      <td>46</td>\n",
       "      <td>0.391</td>\n",
       "      <td>6</td>\n",
       "      <td>21</td>\n",
       "      <td>0.286</td>\n",
       "      <td>6</td>\n",
       "      <td>7</td>\n",
       "      <td>0.857</td>\n",
       "      <td>4</td>\n",
       "      <td>16</td>\n",
       "      <td>20</td>\n",
       "      <td>12</td>\n",
       "      <td>6</td>\n",
       "      <td>2</td>\n",
       "      <td>7</td>\n",
       "      <td>8</td>\n",
       "      <td>48</td>\n",
       "    </tr>\n",
       "    <tr>\n",
       "      <th>4</th>\n",
       "      <td>21</td>\n",
       "      <td>44</td>\n",
       "      <td>0.477</td>\n",
       "      <td>8</td>\n",
       "      <td>20</td>\n",
       "      <td>0.400</td>\n",
       "      <td>5</td>\n",
       "      <td>6</td>\n",
       "      <td>0.833</td>\n",
       "      <td>3</td>\n",
       "      <td>21</td>\n",
       "      <td>24</td>\n",
       "      <td>17</td>\n",
       "      <td>5</td>\n",
       "      <td>1</td>\n",
       "      <td>10</td>\n",
       "      <td>7</td>\n",
       "      <td>55</td>\n",
       "    </tr>\n",
       "    <tr>\n",
       "      <th>5</th>\n",
       "      <td>22</td>\n",
       "      <td>48</td>\n",
       "      <td>0.458</td>\n",
       "      <td>8</td>\n",
       "      <td>23</td>\n",
       "      <td>0.348</td>\n",
       "      <td>3</td>\n",
       "      <td>6</td>\n",
       "      <td>0.500</td>\n",
       "      <td>4</td>\n",
       "      <td>23</td>\n",
       "      <td>27</td>\n",
       "      <td>16</td>\n",
       "      <td>5</td>\n",
       "      <td>4</td>\n",
       "      <td>6</td>\n",
       "      <td>9</td>\n",
       "      <td>55</td>\n",
       "    </tr>\n",
       "    <tr>\n",
       "      <th>6</th>\n",
       "      <td>19</td>\n",
       "      <td>42</td>\n",
       "      <td>0.452</td>\n",
       "      <td>12</td>\n",
       "      <td>25</td>\n",
       "      <td>0.480</td>\n",
       "      <td>3</td>\n",
       "      <td>7</td>\n",
       "      <td>0.429</td>\n",
       "      <td>3</td>\n",
       "      <td>23</td>\n",
       "      <td>26</td>\n",
       "      <td>16</td>\n",
       "      <td>5</td>\n",
       "      <td>2</td>\n",
       "      <td>10</td>\n",
       "      <td>8</td>\n",
       "      <td>53</td>\n",
       "    </tr>\n",
       "    <tr>\n",
       "      <th>7</th>\n",
       "      <td>21</td>\n",
       "      <td>48</td>\n",
       "      <td>0.438</td>\n",
       "      <td>10</td>\n",
       "      <td>31</td>\n",
       "      <td>0.323</td>\n",
       "      <td>2</td>\n",
       "      <td>2</td>\n",
       "      <td>1.000</td>\n",
       "      <td>6</td>\n",
       "      <td>15</td>\n",
       "      <td>21</td>\n",
       "      <td>15</td>\n",
       "      <td>5</td>\n",
       "      <td>0</td>\n",
       "      <td>6</td>\n",
       "      <td>7</td>\n",
       "      <td>54</td>\n",
       "    </tr>\n",
       "    <tr>\n",
       "      <th>8</th>\n",
       "      <td>24</td>\n",
       "      <td>46</td>\n",
       "      <td>0.522</td>\n",
       "      <td>8</td>\n",
       "      <td>23</td>\n",
       "      <td>0.348</td>\n",
       "      <td>13</td>\n",
       "      <td>15</td>\n",
       "      <td>0.867</td>\n",
       "      <td>5</td>\n",
       "      <td>13</td>\n",
       "      <td>18</td>\n",
       "      <td>19</td>\n",
       "      <td>8</td>\n",
       "      <td>0</td>\n",
       "      <td>5</td>\n",
       "      <td>17</td>\n",
       "      <td>69</td>\n",
       "    </tr>\n",
       "    <tr>\n",
       "      <th>9</th>\n",
       "      <td>21</td>\n",
       "      <td>48</td>\n",
       "      <td>0.438</td>\n",
       "      <td>8</td>\n",
       "      <td>20</td>\n",
       "      <td>0.400</td>\n",
       "      <td>11</td>\n",
       "      <td>12</td>\n",
       "      <td>0.917</td>\n",
       "      <td>7</td>\n",
       "      <td>12</td>\n",
       "      <td>19</td>\n",
       "      <td>14</td>\n",
       "      <td>5</td>\n",
       "      <td>1</td>\n",
       "      <td>5</td>\n",
       "      <td>12</td>\n",
       "      <td>61</td>\n",
       "    </tr>\n",
       "  </tbody>\n",
       "</table>\n",
       "</div>"
      ],
      "text/plain": [
       "   fg  fga    fg%  fg3  fg3a   fg3%  ft  fta    ft%  orb  drb  trb  ast  stl  \\\n",
       "0  20   49  0.408    4    16  0.250   9   10  0.900    4   20   24   14    6   \n",
       "1  24   39  0.615   10    18  0.556   8   11  0.727    3   17   20   18    3   \n",
       "2  20   48  0.417    6    18  0.333  14   16  0.875    8   14   22   15    6   \n",
       "3  18   46  0.391    6    21  0.286   6    7  0.857    4   16   20   12    6   \n",
       "4  21   44  0.477    8    20  0.400   5    6  0.833    3   21   24   17    5   \n",
       "5  22   48  0.458    8    23  0.348   3    6  0.500    4   23   27   16    5   \n",
       "6  19   42  0.452   12    25  0.480   3    7  0.429    3   23   26   16    5   \n",
       "7  21   48  0.438   10    31  0.323   2    2  1.000    6   15   21   15    5   \n",
       "8  24   46  0.522    8    23  0.348  13   15  0.867    5   13   18   19    8   \n",
       "9  21   48  0.438    8    20  0.400  11   12  0.917    7   12   19   14    5   \n",
       "\n",
       "   blk  tov  pf  pts  \n",
       "0    2   11  10   53  \n",
       "1    3   12  12   66  \n",
       "2    1    4   5   60  \n",
       "3    2    7   8   48  \n",
       "4    1   10   7   55  \n",
       "5    4    6   9   55  \n",
       "6    2   10   8   53  \n",
       "7    0    6   7   54  \n",
       "8    0    5  17   69  \n",
       "9    1    5  12   61  "
      ]
     },
     "execution_count": 16,
     "metadata": {},
     "output_type": "execute_result"
    }
   ],
   "source": [
    "X_test"
   ]
  },
  {
   "cell_type": "code",
   "execution_count": 17,
   "metadata": {},
   "outputs": [],
   "source": [
    "rfc_pred = rfc.predict_proba(X_test)"
   ]
  },
  {
   "cell_type": "code",
   "execution_count": 18,
   "metadata": {},
   "outputs": [
    {
     "data": {
      "text/plain": [
       "array([[0.27119711, 0.72880289],\n",
       "       [0.04184375, 0.95815625],\n",
       "       [0.1921752 , 0.8078248 ],\n",
       "       [0.27721661, 0.72278339],\n",
       "       [0.05222638, 0.94777362],\n",
       "       [0.06743987, 0.93256013],\n",
       "       [0.09713315, 0.90286685],\n",
       "       [0.18541595, 0.81458405],\n",
       "       [0.0840068 , 0.9159932 ],\n",
       "       [0.16856984, 0.83143016]])"
      ]
     },
     "execution_count": 18,
     "metadata": {},
     "output_type": "execute_result"
    }
   ],
   "source": [
    "rfc_pred"
   ]
  },
  {
   "cell_type": "code",
   "execution_count": 19,
   "metadata": {},
   "outputs": [
    {
     "data": {
      "text/plain": [
       "array([1, 1, 1, 1, 1, 1, 1, 1, 1, 1])"
      ]
     },
     "execution_count": 19,
     "metadata": {},
     "output_type": "execute_result"
    }
   ],
   "source": [
    "rfc_pred.argmax(axis=1)"
   ]
  },
  {
   "cell_type": "code",
   "execution_count": null,
   "metadata": {},
   "outputs": [],
   "source": []
  }
 ],
 "metadata": {
  "kernelspec": {
   "display_name": "Python 3",
   "language": "python",
   "name": "python3"
  },
  "language_info": {
   "codemirror_mode": {
    "name": "ipython",
    "version": 3
   },
   "file_extension": ".py",
   "mimetype": "text/x-python",
   "name": "python",
   "nbconvert_exporter": "python",
   "pygments_lexer": "ipython3",
   "version": "3.8.3"
  }
 },
 "nbformat": 4,
 "nbformat_minor": 4
}
